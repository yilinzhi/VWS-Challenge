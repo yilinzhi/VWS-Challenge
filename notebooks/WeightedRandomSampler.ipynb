{
 "cells": [
  {
   "cell_type": "code",
   "execution_count": 12,
   "metadata": {},
   "outputs": [
    {
     "data": {
      "text/plain": [
       "tensor(1530)"
      ]
     },
     "execution_count": 12,
     "metadata": {},
     "output_type": "execute_result"
    }
   ],
   "source": [
    "import torch\n",
    "from torch.utils.data import WeightedRandomSampler, DataLoader\n",
    "\n",
    "class_counts = torch.tensor([104, 642, 784])\n",
    "numDataPoints = class_counts.sum()\n",
    "numDataPoints"
   ]
  },
  {
   "cell_type": "code",
   "execution_count": 13,
   "metadata": {},
   "outputs": [
    {
     "data": {
      "text/plain": [
       "tensor([[-0.6557,  0.2413, -0.5738,  1.5683, -0.5675],\n",
       "        [ 0.7457,  1.1364, -0.4761, -0.2889, -2.2014],\n",
       "        [-0.1682, -0.8786, -0.3168, -2.1195, -0.7793],\n",
       "        ...,\n",
       "        [ 1.0239, -0.2812, -1.0666, -0.3779, -0.4048],\n",
       "        [ 1.4318, -1.4207, -0.2470, -0.4998,  0.0420],\n",
       "        [-1.1152,  3.3121,  2.2242,  1.1222, -0.1707]])"
      ]
     },
     "execution_count": 13,
     "metadata": {},
     "output_type": "execute_result"
    }
   ],
   "source": [
    "data_dim = 5\n",
    "bs = 170\n",
    "data = torch.randn(numDataPoints, data_dim)\n",
    "data"
   ]
  },
  {
   "cell_type": "code",
   "execution_count": 14,
   "metadata": {},
   "outputs": [
    {
     "name": "stdout",
     "output_type": "stream",
     "text": [
      "target train 0/1/2: 104/642/784\n"
     ]
    },
    {
     "data": {
      "text/plain": [
       "tensor([0, 0, 0,  ..., 2, 2, 2])"
      ]
     },
     "execution_count": 14,
     "metadata": {},
     "output_type": "execute_result"
    }
   ],
   "source": [
    "target = torch.cat((torch.zeros(class_counts[0], dtype=torch.long),\n",
    "                    torch.ones(class_counts[1], dtype=torch.long),\n",
    "                    torch.ones(class_counts[2], dtype=torch.long) * 2))\n",
    "\n",
    "print('target train 0/1/2: {}/{}/{}'.format(\n",
    "    (target == 0).sum(), (target == 1).sum(), (target == 2).sum()))\n",
    "target"
   ]
  },
  {
   "cell_type": "code",
   "execution_count": 15,
   "metadata": {},
   "outputs": [
    {
     "data": {
      "text/plain": [
       "tensor([104, 642, 784])"
      ]
     },
     "execution_count": 15,
     "metadata": {},
     "output_type": "execute_result"
    }
   ],
   "source": [
    "# Compute samples weight (each sample should get its own weight)\n",
    "class_sample_count = torch.tensor(\n",
    "    [(target == t).sum() for t in torch.unique(target, sorted=True)])\n",
    "class_sample_count"
   ]
  },
  {
   "cell_type": "code",
   "execution_count": 16,
   "metadata": {},
   "outputs": [
    {
     "data": {
      "text/plain": [
       "tensor([0.0096, 0.0096, 0.0096,  ..., 0.0013, 0.0013, 0.0013])"
      ]
     },
     "execution_count": 16,
     "metadata": {},
     "output_type": "execute_result"
    }
   ],
   "source": [
    "weight = 1. / class_sample_count.float()\n",
    "samples_weight = torch.tensor([weight[t] for t in target])\n",
    "samples_weight"
   ]
  },
  {
   "cell_type": "code",
   "execution_count": 17,
   "metadata": {},
   "outputs": [
    {
     "name": "stdout",
     "output_type": "stream",
     "text": [
      "batch index 0, 0/1/2: 60/59/51\n",
      "batch index 1, 0/1/2: 41/66/63\n",
      "batch index 2, 0/1/2: 49/59/62\n",
      "batch index 3, 0/1/2: 55/58/57\n",
      "batch index 4, 0/1/2: 47/67/56\n",
      "batch index 5, 0/1/2: 54/55/61\n",
      "batch index 6, 0/1/2: 45/64/61\n",
      "batch index 7, 0/1/2: 48/54/68\n",
      "batch index 8, 0/1/2: 58/53/59\n"
     ]
    }
   ],
   "source": [
    "# Create sampler, dataset, loader\n",
    "sampler = WeightedRandomSampler(samples_weight, len(samples_weight))\n",
    "train_dataset = torch.utils.data.TensorDataset(data, target)\n",
    "#train_dataset = triaxial_dataset(data, target)\n",
    "train_loader = DataLoader(\n",
    "    train_dataset, batch_size=bs, num_workers=0, sampler=sampler)\n",
    "\n",
    "# Iterate DataLoader and check class balance for each batch\n",
    "for i, (x, y) in enumerate(train_loader):\n",
    "    print(\"batch index {}, 0/1/2: {}/{}/{}\".format(\n",
    "        i, (y == 0).sum(), (y == 1).sum(), (y == 2).sum()))"
   ]
  },
  {
   "cell_type": "code",
   "execution_count": null,
   "metadata": {},
   "outputs": [],
   "source": []
  }
 ],
 "metadata": {
  "kernelspec": {
   "display_name": "pytorch_gpu",
   "language": "python",
   "name": "pytorch_gpu"
  },
  "language_info": {
   "codemirror_mode": {
    "name": "ipython",
    "version": 3
   },
   "file_extension": ".py",
   "mimetype": "text/x-python",
   "name": "python",
   "nbconvert_exporter": "python",
   "pygments_lexer": "ipython3",
   "version": "3.6.12"
  }
 },
 "nbformat": 4,
 "nbformat_minor": 4
}
