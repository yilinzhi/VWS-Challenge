{
 "cells": [
  {
   "cell_type": "code",
   "execution_count": null,
   "metadata": {},
   "outputs": [],
   "source": [
    "import torch\n",
    "\n",
    "\n",
    "\n",
    "class_counts = torch.tensor([104, 642, 784])\n",
    "numDataPoints = class_counts.sum()\n",
    "data_dim = 5\n",
    "bs = 170\n",
    "data = torch.randn(numDataPoints, data_dim)\n",
    "\n",
    "target = torch.cat((torch.zeros(class_counts[0], dtype=torch.long),\n",
    "                    torch.ones(class_counts[1], dtype=torch.long),\n",
    "                    torch.ones(class_counts[2], dtype=torch.long) * 2))\n",
    "\n",
    "print('target train 0/1/2: {}/{}/{}'.format(\n",
    "    (target == 0).sum(), (target == 1).sum(), (target == 2).sum()))\n",
    "\n",
    "# Compute samples weight (each sample should get its own weight)\n",
    "class_sample_count = torch.tensor(\n",
    "    [(target == t).sum() for t in torch.unique(target, sorted=True)])\n",
    "weight = 1. / class_sample_count.float()\n",
    "samples_weight = torch.tensor([weight[t] for t in target])\n",
    "\n",
    "# Create sampler, dataset, loader\n",
    "sampler = WeightedRandomSampler(samples_weight, len(samples_weight))\n",
    "train_dataset = torch.utils.data.TensorDataset(data, target)\n",
    "#train_dataset = triaxial_dataset(data, target)\n",
    "train_loader = DataLoader(\n",
    "    train_dataset, batch_size=bs, num_workers=0, sampler=sampler)\n",
    "\n",
    "# Iterate DataLoader and check class balance for each batch\n",
    "for i, (x, y) in enumerate(train_loader):\n",
    "    print(\"batch index {}, 0/1/2: {}/{}/{}\".format(\n",
    "        i, (y == 0).sum(), (y == 1).sum(), (y == 2).sum()))"
   ]
  }
 ],
 "metadata": {
  "kernelspec": {
   "display_name": "Python 3",
   "language": "python",
   "name": "python3"
  },
  "language_info": {
   "codemirror_mode": {
    "name": "ipython",
    "version": 3
   },
   "file_extension": ".py",
   "mimetype": "text/x-python",
   "name": "python",
   "nbconvert_exporter": "python",
   "pygments_lexer": "ipython3",
   "version": "3.8.5"
  }
 },
 "nbformat": 4,
 "nbformat_minor": 4
}
